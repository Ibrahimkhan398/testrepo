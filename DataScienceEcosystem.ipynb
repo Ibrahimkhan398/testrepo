{
 "cells": [
  {
   "cell_type": "markdown",
   "id": "86ca5818-f763-4793-b14a-f0ee1a94ebfa",
   "metadata": {},
   "source": [
    "# Data Science Tools and Ecosystem"
   ]
  },
  {
   "cell_type": "markdown",
   "id": "a6a4f24b-3c4f-4ba6-8dbe-e26a11b4adc1",
   "metadata": {},
   "source": [
    "In this notebook, Data Science Tools and Ecosystem are summarized.\n"
   ]
  },
  {
   "cell_type": "markdown",
   "id": "1e49d1b7-83f1-4c50-b75a-84626b6d5223",
   "metadata": {},
   "source": [
    "Some of the popular languages that Data Scientists use are:\n",
    "1. Python\n",
    "2. R\n",
    "3. Julia\n",
    "4. SQL\n",
    "5. C++\n",
    "6. Java etc."
   ]
  },
  {
   "cell_type": "markdown",
   "id": "d31d5d79-7764-42d0-88a9-4c4a94a08e8a",
   "metadata": {},
   "source": [
    " Some of the commonly used liberaries used by Data Science include:\n",
    " 1. Tensorflow\n",
    " 2. Numpy\n",
    " 3. Scipy\n",
    " 4. Pandas\n",
    " 5. Matplotlib\n",
    " 6. Pytorch\n",
    " 7. Scikit-Learn\n",
    " 8. Keras etc."
   ]
  },
  {
   "cell_type": "markdown",
   "id": "c6a9dcad-619e-43e3-b240-42624b41c8cc",
   "metadata": {},
   "source": [
    "| Data Science Tools    |\n",
    "|-----------------------|\n",
    "| Apache Spark          |\n",
    "| TensorFlow            |\n",
    "| Tableau               |\n"
   ]
  },
  {
   "cell_type": "markdown",
   "id": "6a55d977-ca53-4cdb-8281-3abc458d232b",
   "metadata": {},
   "source": [
    "### Below are a few examples of evaluating arithmetic expressions in Python\n"
   ]
  },
  {
   "cell_type": "code",
   "execution_count": 8,
   "id": "5eee0628-d424-44d4-83ed-ea8887f6f44b",
   "metadata": {},
   "outputs": [
    {
     "data": {
      "text/plain": [
       "17"
      ]
     },
     "execution_count": 8,
     "metadata": {},
     "output_type": "execute_result"
    }
   ],
   "source": [
    "#this is a common arithmetic example to multiply and then add integers\n",
    "(3*4)+5"
   ]
  },
  {
   "cell_type": "code",
   "execution_count": 9,
   "id": "d9378822-7c6a-4e82-9e03-e8eae1974c44",
   "metadata": {},
   "outputs": [
    {
     "data": {
      "text/plain": [
       "3.3333333333333335"
      ]
     },
     "execution_count": 9,
     "metadata": {},
     "output_type": "execute_result"
    }
   ],
   "source": [
    "#This will convert 200 minutes to hours by dividing by 60\n",
    "200/60"
   ]
  },
  {
   "cell_type": "markdown",
   "id": "e5fc5526-d911-4b7a-ae37-a4ba976d4979",
   "metadata": {},
   "source": [
    " __Objectives:__\n",
    " * List popular langages for Data Science\n",
    " * List popular libraries for Data Science\n",
    " * List popular tools for Data Science\n",
    " * How to provide comments in the cell"
   ]
  },
  {
   "cell_type": "markdown",
   "id": "5491d6cc-5c16-4bcf-a21d-8f1c5fb01271",
   "metadata": {},
   "source": [
    "## Author\n",
    "Ibrahim Ahmad"
   ]
  },
  {
   "cell_type": "code",
   "execution_count": null,
   "id": "078bdbe2-eb38-4d9e-a793-c42987f4721a",
   "metadata": {},
   "outputs": [],
   "source": []
  }
 ],
 "metadata": {
  "kernelspec": {
   "display_name": "Python 3 (ipykernel)",
   "language": "python",
   "name": "python3"
  },
  "language_info": {
   "codemirror_mode": {
    "name": "ipython",
    "version": 3
   },
   "file_extension": ".py",
   "mimetype": "text/x-python",
   "name": "python",
   "nbconvert_exporter": "python",
   "pygments_lexer": "ipython3",
   "version": "3.12.0"
  }
 },
 "nbformat": 4,
 "nbformat_minor": 5
}
